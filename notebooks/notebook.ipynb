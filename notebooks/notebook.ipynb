{
 "cells": [
  {
   "cell_type": "code",
   "execution_count": 1,
   "metadata": {},
   "outputs": [
    {
     "name": "stdout",
     "output_type": "stream",
     "text": [
      "In the quiet corners of forgotten places,\n",
      "Where time and neglect have left their traces,\n",
      "There lies a beauty in decay's embrace,\n",
      "As rust consumes with slow and steady grace.\n",
      "\n",
      "Its orange hues like a painter's brush,\n",
      "Creating patterns in a silent hush,\n",
      "Each flake a story of days gone by,\n",
      "Whispers of a past that once did fly.\n",
      "\n",
      "From old machines to weathered gates,\n",
      "Rust weaves its tale of changing fates,\n",
      "A reminder that all things must fade,\n",
      "In the end, we all succumb to its shade.\n",
      "\n",
      "Yet in its grip, there is a kind of art,\n",
      "A testament to the human heart,\n",
      "For even in decay, there is a spark,\n",
      "A beauty found in rust's eternal mark.\n",
      "\n",
      "So let us not fear the passage of time,\n",
      "Embrace the rust, let its beauty shine,\n",
      "For in its depths, we may just find,\n",
      "A reflection of our own design.In this poem, the poet beautifully captures the essence of decay and the beauty found within it, drawing parallels between the natural process of rust consuming objects and the passage of time in human life. The imagery of \"orange hues like a painter's brush\" and \"creating patterns in a silent hush\" evokes a sense of melancholy and nostalgia, as if each flake of rust tells a story of days long past.\n",
      "\n",
      "The technical aspects of the poem are also noteworthy. The use of rhyme and rhythm creates a sense of flow and continuity, mirroring the gradual and inevitable progression of rust. The repetition of the word \"rust\" throughout the poem serves as a constant reminder of the central theme, emphasizing the transformative power of decay.\n",
      "\n",
      "Furthermore, the poem delves into deeper philosophical themes, exploring the concept of impermanence and the inevitability of change. The poet suggests that there is a certain artistry in decay, a testament to the resilience of the human spirit even in the face of deterioration.\n",
      "\n",
      "Overall, this poem is a poignant reflection on the passage of time and the beauty found in decay. It encourages readers to embrace the natural process of aging and decay, finding solace in the idea that even in the most deteriorated state, there is still a spark of beauty and resilience to be found.content='In this poem, the poet beautifully captures the essence of decay and the beauty found within it, drawing parallels between the natural process of rust consuming objects and the passage of time in human life. The imagery of \"orange hues like a painter\\'s brush\" and \"creating patterns in a silent hush\" evokes a sense of melancholy and nostalgia, as if each flake of rust tells a story of days long past.\\n\\nThe technical aspects of the poem are also noteworthy. The use of rhyme and rhythm creates a sense of flow and continuity, mirroring the gradual and inevitable progression of rust. The repetition of the word \"rust\" throughout the poem serves as a constant reminder of the central theme, emphasizing the transformative power of decay.\\n\\nFurthermore, the poem delves into deeper philosophical themes, exploring the concept of impermanence and the inevitability of change. The poet suggests that there is a certain artistry in decay, a testament to the resilience of the human spirit even in the face of deterioration.\\n\\nOverall, this poem is a poignant reflection on the passage of time and the beauty found in decay. It encourages readers to embrace the natural process of aging and decay, finding solace in the idea that even in the most deteriorated state, there is still a spark of beauty and resilience to be found.'\n"
     ]
    }
   ],
   "source": [
    "from langchain.chat_models import ChatOpenAI\n",
    "from langchain.prompts import ChatPromptTemplate\n",
    "from langchain.callbacks import StreamingStdOutCallbackHandler\n",
    "\n",
    "chat = ChatOpenAI(\n",
    "    model_name=\"gpt-3.5-turbo\",\n",
    "    temperature=0.1,\n",
    "    streaming=True,\n",
    "    callbacks=[\n",
    "        StreamingStdOutCallbackHandler(),\n",
    "    ],\n",
    ")\n",
    "\n",
    "poet_prompt = ChatPromptTemplate.from_messages(\n",
    "    [\n",
    "        (\n",
    "            \"system\",\n",
    "            \"you develop software for a living, but you are actually a great poet.\",\n",
    "        ),\n",
    "        (\"human\", \"Please write a poem about {programming_language}\"),\n",
    "    ]\n",
    ")\n",
    "\n",
    "poet_chain = poet_prompt | chat\n",
    "\n",
    "\n",
    "critic_prompt = ChatPromptTemplate.from_messages([\n",
    "    (\"system\",\"You are a critic and also renowned scholar about poet and programming language. you have and excellent ability to criticize poet about programming language.  Please write a critique of  given poem that considers both literary and technical aspects\"),(\"human\", \"{poet}\")\n",
    "])\n",
    "\n",
    "critic_chain = critic_prompt | chat \n",
    "\n",
    "\n",
    "final_chain = {\"poet\": poet_chain} | critic_chain\n",
    "\n",
    "try:\n",
    "    result = final_chain.invoke({\"programming_language\": \"rust\"})\n",
    "    print(result)\n",
    "except Exception as e:\n",
    "    print(f\"An error occurred: {e}\")"
   ]
  },
  {
   "cell_type": "code",
   "execution_count": null,
   "metadata": {},
   "outputs": [],
   "source": []
  }
 ],
 "metadata": {
  "kernelspec": {
   "display_name": "env",
   "language": "python",
   "name": "python3"
  },
  "language_info": {
   "codemirror_mode": {
    "name": "ipython",
    "version": 3
   },
   "file_extension": ".py",
   "mimetype": "text/x-python",
   "name": "python",
   "nbconvert_exporter": "python",
   "pygments_lexer": "ipython3",
   "version": "3.10.12"
  }
 },
 "nbformat": 4,
 "nbformat_minor": 2
}
