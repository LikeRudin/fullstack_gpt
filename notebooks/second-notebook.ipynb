{
 "cells": [
  {
   "cell_type": "code",
   "execution_count": 8,
   "metadata": {},
   "outputs": [
    {
     "name": "stdout",
     "output_type": "stream",
     "text": [
      "반지의 제왕: 왕의 귀환은 2003년에 개봉한 영화로, 피터 잭슨 감독이 이끌고 일라이저 우드, 이안 맥켈런, 비고 모텐슨, 리브 타일러, 올랜도 블룸, 숀 애스틴 등이 출연했습니다. 이 영화의 예산은 약 9,400만 달러이며, 흥행 수익은 약 11억 4,200만 달러를 기록했습니다. 영화의 줄거리는 반지를 파괴하려는 여정의 마지막 단계에서, 프로도와 샘은 모르도르에 도착하고, 아라곤은 곤도르의 왕으로서 마지막 전투를 준비한다. 사우론의 군대는 중간계의 모든 자유로운 종족을 위협하며, 모든 희망이 사라져가는 가운데, 원정대는 최후의 희망을 걸고 싸운다. 이 영화는 중간계의 운명을 결정짓는 대서사시적인 결말을 보여줍니다."
     ]
    },
    {
     "data": {
      "text/plain": [
       "AIMessageChunk(content='반지의 제왕: 왕의 귀환은 2003년에 개봉한 영화로, 피터 잭슨 감독이 이끌고 일라이저 우드, 이안 맥켈런, 비고 모텐슨, 리브 타일러, 올랜도 블룸, 숀 애스틴 등이 출연했습니다. 이 영화의 예산은 약 9,400만 달러이며, 흥행 수익은 약 11억 4,200만 달러를 기록했습니다. 영화의 줄거리는 반지를 파괴하려는 여정의 마지막 단계에서, 프로도와 샘은 모르도르에 도착하고, 아라곤은 곤도르의 왕으로서 마지막 전투를 준비한다. 사우론의 군대는 중간계의 모든 자유로운 종족을 위협하며, 모든 희망이 사라져가는 가운데, 원정대는 최후의 희망을 걸고 싸운다. 이 영화는 중간계의 운명을 결정짓는 대서사시적인 결말을 보여줍니다.')"
      ]
     },
     "execution_count": 8,
     "metadata": {},
     "output_type": "execute_result"
    }
   ],
   "source": [
    "from langchain.chat_models import  ChatOpenAI\n",
    "from langchain.callbacks import StreamingStdOutCallbackHandler\n",
    "from langchain.prompts import FewShotChatMessagePromptTemplate, ChatPromptTemplate\n",
    "\n",
    "chat = ChatOpenAI(\n",
    "    model_name=\"gpt-3.5-turbo\",\n",
    "    temperature=0.1,\n",
    "    streaming=True,\n",
    "    callbacks=[\n",
    "        StreamingStdOutCallbackHandler(),\n",
    "    ],\n",
    ")\n",
    "\n",
    "example_prompt = ChatPromptTemplate.from_messages([\n",
    "    (\"human\", \"{movie}\"),\n",
    "    (\"ai\", \"{output}\"),\n",
    "])\n",
    "\n",
    "examples = [\n",
    "    {\n",
    "        \"movie\": \"반지의 제왕: 반지 원정대\",\n",
    "        \"output\": \"\"\"\n",
    "- 감독: 피터 잭슨\n",
    "- 주요 출연진: 일라이저 우드, 이안 맥켈런, 리브 타일러, 비고 모텐슨, 숀 애스틴, 케이트 블란쳇\n",
    "- 예산: 약 9,300만 달러\n",
    "- 흥행 수익: 약 8억 7,100만 달러\n",
    "- 간략한 줄거리: 영화는 호빗족인 프로도가 사우론의 힘을 가진 절대반지를 파괴하기 위해 '반지 원정대'와 함께 모험을 떠나는 이야기를 그린다. 이들은 반지를 파괴하기 위해 위험천만한 여정을 시작하며, 다양한 종족과 악의 세력에 맞서 싸운다. 이 여정은 중간계를 구원하기 위한 첫 번째 단계로, 거대한 전투와 시련이 그들의 앞길을 막는다.\n",
    "        \"\"\"\n",
    "    },\n",
    "    {\n",
    "        \"movie\": \"반지의 제왕: 두 개의 탑\",\n",
    "        \"output\": \"\"\"\n",
    "- 감독: 피터 잭슨\n",
    "- 주요 출연진: 일라이저 우드, 이안 맥켈런, 비고 모텐슨, 리브 타일러, 올랜도 블룸, 존 리스-데이비스\n",
    "- 예산: 약 9,400만 달러\n",
    "- 흥행 수익: 약 9억 4,700만 달러\n",
    "- 간략한 줄거리: 반지 원정대는 흩어지게 되고, 각자의 길에서 새로운 적들과 맞서 싸워야 한다. 프로도와 샘은 골룸의 도움을 받아 모르도르로 향하고, 아라곤, 레골라스, 김리는 로한 왕국을 돕기 위해 싸운다. 두 개의 탑, 즉 사우론의 바랏두르와 사루만의 오르상크는 힘을 합쳐 중간계를 지배하려 하지만, 원정대는 이 힘에 맞서기 위한 희생과 결단을 내린다.\n",
    "        \"\"\"\n",
    "    },\n",
    "    {\n",
    "        \"movie\": \"반지의 제왕: 왕의 귀환\",\n",
    "        \"output\": \"\"\"\n",
    "- 감독: 피터 잭슨\n",
    "- 주요 출연진: 일라이저 우드, 이안 맥켈런, 비고 모텐슨, 리브 타일러, 올랜도 블룸, 숀 애스틴\n",
    "- 예산: 약 9,400만 달러\n",
    "- 흥행 수익: 약 11억 4,200만 달러\n",
    "- 간략한 줄거리: 반지를 파괴하려는 여정의 마지막 단계에서, 프로도와 샘은 모르도르에 도착하고, 아라곤은 곤도르의 왕으로서 마지막 전투를 준비한다. 사우론의 군대는 중간계의 모든 자유로운 종족을 위협하며, 모든 희망이 사라져가는 가운데, 원정대는 최후의 희망을 걸고 싸운다. 이 영화는 중간계의 운명을 결정짓는 대서사시적인 결말을 보여준다.\n",
    "        \"\"\"\n",
    "    }]\n",
    "    \n",
    "\n",
    "\n",
    "few_shot_prompt = FewShotChatMessagePromptTemplate(\n",
    "    example_prompt=example_prompt,\n",
    "    examples=examples\n",
    ")\n",
    "\n",
    "final_prompt = ChatPromptTemplate.from_messages([\n",
    "    (\"system\", \"당신은 영화에 관심이 많은 영화 오타쿠 입니다.당신이 아는 영화의 제목만 들어도 자신이 아는 해당 영화에대한 모든 정보들을 늘어놓습니다. 아무도 물어보진 않았지만 감독, 출연진, 예산, 흥행수익, 간략한줄거리를 포함해서 알고있는 모든 정보를 설명합니다.  \"),\n",
    "    few_shot_prompt,\n",
    "    (\"human\", \"{movie}\")\n",
    "])\n",
    "\n",
    "chain = final_prompt | chat\n",
    "chain.invoke({\"movie\": \"반지의 제왕: 왕의 귀환\"})\n",
    "\n"
   ]
  }
 ],
 "metadata": {
  "kernelspec": {
   "display_name": "env",
   "language": "python",
   "name": "python3"
  },
  "language_info": {
   "codemirror_mode": {
    "name": "ipython",
    "version": 3
   },
   "file_extension": ".py",
   "mimetype": "text/x-python",
   "name": "python",
   "nbconvert_exporter": "python",
   "pygments_lexer": "ipython3",
   "version": "3.10.12"
  }
 },
 "nbformat": 4,
 "nbformat_minor": 2
}
